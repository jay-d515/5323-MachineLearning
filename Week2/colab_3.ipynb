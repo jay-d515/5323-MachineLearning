{
 "cells": [
  {
   "cell_type": "markdown",
   "metadata": {},
   "source": [
    "# Filling or replacing values "
   ]
  },
  {
   "cell_type": "code",
   "execution_count": 1,
   "metadata": {},
   "outputs": [],
   "source": [
    "import pandas as pd\n",
    "import numpy as np\n",
    "from sklearn.linear_model import LinearRegression\n",
    "from sklearn.model_selection import train_test_split"
   ]
  },
  {
   "cell_type": "markdown",
   "metadata": {},
   "source": [
    "## Data preparation"
   ]
  },
  {
   "cell_type": "code",
   "execution_count": 13,
   "metadata": {},
   "outputs": [],
   "source": [
    "df = pd.read_csv('cc2.csv')\n",
    "# df.columns "
   ]
  },
  {
   "cell_type": "code",
   "execution_count": 14,
   "metadata": {},
   "outputs": [
    {
     "name": "stderr",
     "output_type": "stream",
     "text": [
      "C:\\Users\\Mahmoud\\AppData\\Local\\Temp\\ipykernel_21044\\2643740732.py:1: FutureWarning: The default value of numeric_only in DataFrame.std is deprecated. In a future version, it will default to False. In addition, specifying 'numeric_only=None' is deprecated. Select only valid columns or specify the value of numeric_only to silence this warning.\n",
      "  a = df.std()\n",
      "C:\\Users\\Mahmoud\\AppData\\Local\\Temp\\ipykernel_21044\\2643740732.py:3: FutureWarning: The default value of numeric_only in DataFrame.mean is deprecated. In a future version, it will default to False. In addition, specifying 'numeric_only=None' is deprecated. Select only valid columns or specify the value of numeric_only to silence this warning.\n",
      "  df = df.fillna(df.mean())\n",
      "C:\\Users\\Mahmoud\\AppData\\Local\\Temp\\ipykernel_21044\\2643740732.py:5: FutureWarning: The default value of numeric_only in DataFrame.std is deprecated. In a future version, it will default to False. In addition, specifying 'numeric_only=None' is deprecated. Select only valid columns or specify the value of numeric_only to silence this warning.\n",
      "  b = df.std()\n"
     ]
    }
   ],
   "source": [
    "\n",
    "a = df.std()\n",
    "# df = df.fillna(0)\n",
    "df = df.fillna(df.mean())\n",
    "# df.head(10)\n",
    "b = df.std()\n",
    "\n"
   ]
  },
  {
   "cell_type": "code",
   "execution_count": 15,
   "metadata": {},
   "outputs": [
    {
     "data": {
      "text/plain": [
       "row                     0.000000\n",
       "col                     0.000000\n",
       "rep                     0.000000\n",
       "line                    0.000000\n",
       "grid                    0.000000\n",
       "Tier                    0.000000\n",
       "Row                     0.000000\n",
       "Weight per row (lbs)    0.000000\n",
       "cc_0412                 0.000000\n",
       "cc_0415                 0.000214\n",
       "cc_0427                 0.001939\n",
       "cc_0506                 0.000000\n",
       "cc_0516                 0.014730\n",
       "cc_0520                 0.008244\n",
       "cc_0523                 0.008872\n",
       "cc_0527                 0.000000\n",
       "cc_0531                 0.008258\n",
       "cc_0602                 0.000000\n",
       "cc_0607                 0.007495\n",
       "cc_0614                 0.000000\n",
       "cc_0617                 0.000000\n",
       "cc_0620                 0.000000\n",
       "cc_0623                 0.000000\n",
       "cc_0627                 0.008042\n",
       "cc_0630                 0.003751\n",
       "cc_0708                 0.004379\n",
       "cc_0713                 0.004047\n",
       "cc_0716                 0.004272\n",
       "cc_0719                 0.000000\n",
       "cc_0721                 0.004852\n",
       "cc_0725                 0.000000\n",
       "cc_0728                 0.005841\n",
       "cc_0802                 0.000000\n",
       "cc_0808                 0.000000\n",
       "cc_0812                 0.018214\n",
       "dtype: float64"
      ]
     },
     "execution_count": 15,
     "metadata": {},
     "output_type": "execute_result"
    }
   ],
   "source": [
    "a - b"
   ]
  },
  {
   "cell_type": "code",
   "execution_count": null,
   "metadata": {},
   "outputs": [],
   "source": []
  },
  {
   "cell_type": "code",
   "execution_count": 11,
   "metadata": {},
   "outputs": [
    {
     "data": {
      "text/plain": [
       "0.3738509101586881"
      ]
     },
     "execution_count": 11,
     "metadata": {},
     "output_type": "execute_result"
    }
   ],
   "source": [
    "b['cc_0412'] - a['cc_0412'].std()"
   ]
  },
  {
   "cell_type": "code",
   "execution_count": 8,
   "metadata": {},
   "outputs": [
    {
     "data": {
      "text/plain": [
       "row                       4.000000\n",
       "col                      18.168000\n",
       "rep                     257.161143\n",
       "line                      1.496000\n",
       "grid                      1.000000\n",
       "Tier                      4.000000\n",
       "Row                      35.752000\n",
       "Weight per row (lbs)      6.619561\n",
       "cc_0412                   0.332185\n",
       "cc_0415                   0.265091\n",
       "cc_0427                   2.959513\n",
       "cc_0506                   5.113903\n",
       "cc_0516                  29.447688\n",
       "cc_0520                  40.268653\n",
       "cc_0523                  52.564027\n",
       "cc_0527                  58.223346\n",
       "cc_0531                  68.028836\n",
       "cc_0602                  62.160503\n",
       "cc_0607                  86.978497\n",
       "cc_0614                  87.952144\n",
       "cc_0617                  90.959056\n",
       "cc_0620                  92.205657\n",
       "cc_0623                  89.185699\n",
       "cc_0627                  96.253413\n",
       "cc_0630                  96.383334\n",
       "cc_0708                  94.134389\n",
       "cc_0713                  95.191547\n",
       "cc_0716                  94.248925\n",
       "cc_0719                  94.638812\n",
       "cc_0721                  91.467253\n",
       "cc_0725                  87.619367\n",
       "cc_0728                  87.596221\n",
       "cc_0802                  69.590045\n",
       "cc_0808                  50.040269\n",
       "cc_0812                  31.369730\n",
       "dtype: float64"
      ]
     },
     "execution_count": 8,
     "metadata": {},
     "output_type": "execute_result"
    }
   ],
   "source": [
    "b"
   ]
  },
  {
   "cell_type": "code",
   "execution_count": 4,
   "metadata": {},
   "outputs": [],
   "source": [
    "df.to_csv('test.csv')"
   ]
  },
  {
   "cell_type": "code",
   "execution_count": 5,
   "metadata": {},
   "outputs": [],
   "source": [
    "# df.isna().sum().sum()"
   ]
  },
  {
   "cell_type": "markdown",
   "metadata": {},
   "source": [
    "### Summary statistics \n",
    "\n",
    "can be applied to part or complete dataframe"
   ]
  },
  {
   "cell_type": "code",
   "execution_count": 6,
   "metadata": {
    "scrolled": true
   },
   "outputs": [
    {
     "data": {
      "text/html": [
       "<div>\n",
       "<style scoped>\n",
       "    .dataframe tbody tr th:only-of-type {\n",
       "        vertical-align: middle;\n",
       "    }\n",
       "\n",
       "    .dataframe tbody tr th {\n",
       "        vertical-align: top;\n",
       "    }\n",
       "\n",
       "    .dataframe thead th {\n",
       "        text-align: right;\n",
       "    }\n",
       "</style>\n",
       "<table border=\"1\" class=\"dataframe\">\n",
       "  <thead>\n",
       "    <tr style=\"text-align: right;\">\n",
       "      <th></th>\n",
       "      <th>row</th>\n",
       "      <th>col</th>\n",
       "      <th>rep</th>\n",
       "      <th>line</th>\n",
       "      <th>grid</th>\n",
       "      <th>Tier</th>\n",
       "      <th>Row</th>\n",
       "      <th>Weight per row (lbs)</th>\n",
       "      <th>cc_0412</th>\n",
       "      <th>cc_0415</th>\n",
       "      <th>...</th>\n",
       "      <th>cc_0708</th>\n",
       "      <th>cc_0713</th>\n",
       "      <th>cc_0716</th>\n",
       "      <th>cc_0719</th>\n",
       "      <th>cc_0721</th>\n",
       "      <th>cc_0725</th>\n",
       "      <th>cc_0728</th>\n",
       "      <th>cc_0802</th>\n",
       "      <th>cc_0808</th>\n",
       "      <th>cc_0812</th>\n",
       "    </tr>\n",
       "  </thead>\n",
       "  <tbody>\n",
       "    <tr>\n",
       "      <th>count</th>\n",
       "      <td>875.000000</td>\n",
       "      <td>875.00000</td>\n",
       "      <td>875.000000</td>\n",
       "      <td>875.00000</td>\n",
       "      <td>875.0</td>\n",
       "      <td>875.000000</td>\n",
       "      <td>875.00000</td>\n",
       "      <td>875.000000</td>\n",
       "      <td>875.000000</td>\n",
       "      <td>875.000000</td>\n",
       "      <td>...</td>\n",
       "      <td>875.000000</td>\n",
       "      <td>875.000000</td>\n",
       "      <td>875.000000</td>\n",
       "      <td>875.000000</td>\n",
       "      <td>875.000000</td>\n",
       "      <td>875.000000</td>\n",
       "      <td>875.000000</td>\n",
       "      <td>875.000000</td>\n",
       "      <td>875.000000</td>\n",
       "      <td>875.000000</td>\n",
       "    </tr>\n",
       "    <tr>\n",
       "      <th>mean</th>\n",
       "      <td>4.000000</td>\n",
       "      <td>18.16800</td>\n",
       "      <td>257.161143</td>\n",
       "      <td>1.49600</td>\n",
       "      <td>1.0</td>\n",
       "      <td>4.000000</td>\n",
       "      <td>35.75200</td>\n",
       "      <td>6.619561</td>\n",
       "      <td>0.332185</td>\n",
       "      <td>0.264788</td>\n",
       "      <td>...</td>\n",
       "      <td>94.026807</td>\n",
       "      <td>95.082757</td>\n",
       "      <td>94.141212</td>\n",
       "      <td>94.638812</td>\n",
       "      <td>91.362719</td>\n",
       "      <td>87.619367</td>\n",
       "      <td>87.496111</td>\n",
       "      <td>69.590045</td>\n",
       "      <td>50.040269</td>\n",
       "      <td>31.333879</td>\n",
       "    </tr>\n",
       "    <tr>\n",
       "      <th>std</th>\n",
       "      <td>2.001144</td>\n",
       "      <td>9.08593</td>\n",
       "      <td>130.586830</td>\n",
       "      <td>0.50027</td>\n",
       "      <td>0.0</td>\n",
       "      <td>2.001144</td>\n",
       "      <td>18.05367</td>\n",
       "      <td>2.370967</td>\n",
       "      <td>0.373851</td>\n",
       "      <td>0.373185</td>\n",
       "      <td>...</td>\n",
       "      <td>8.284162</td>\n",
       "      <td>7.766256</td>\n",
       "      <td>8.112389</td>\n",
       "      <td>8.767108</td>\n",
       "      <td>9.020988</td>\n",
       "      <td>12.236083</td>\n",
       "      <td>10.622950</td>\n",
       "      <td>16.478898</td>\n",
       "      <td>19.321092</td>\n",
       "      <td>31.829060</td>\n",
       "    </tr>\n",
       "    <tr>\n",
       "      <th>min</th>\n",
       "      <td>1.000000</td>\n",
       "      <td>3.00000</td>\n",
       "      <td>0.000000</td>\n",
       "      <td>1.00000</td>\n",
       "      <td>1.0</td>\n",
       "      <td>1.000000</td>\n",
       "      <td>5.00000</td>\n",
       "      <td>0.000000</td>\n",
       "      <td>0.000000</td>\n",
       "      <td>0.000000</td>\n",
       "      <td>...</td>\n",
       "      <td>0.000000</td>\n",
       "      <td>0.000000</td>\n",
       "      <td>0.000000</td>\n",
       "      <td>19.629574</td>\n",
       "      <td>0.000000</td>\n",
       "      <td>20.619689</td>\n",
       "      <td>0.000000</td>\n",
       "      <td>21.425299</td>\n",
       "      <td>7.274665</td>\n",
       "      <td>0.000000</td>\n",
       "    </tr>\n",
       "    <tr>\n",
       "      <th>25%</th>\n",
       "      <td>2.000000</td>\n",
       "      <td>10.00000</td>\n",
       "      <td>139.500000</td>\n",
       "      <td>1.00000</td>\n",
       "      <td>1.0</td>\n",
       "      <td>2.000000</td>\n",
       "      <td>20.00000</td>\n",
       "      <td>5.116000</td>\n",
       "      <td>0.068185</td>\n",
       "      <td>0.032228</td>\n",
       "      <td>...</td>\n",
       "      <td>92.682724</td>\n",
       "      <td>94.276348</td>\n",
       "      <td>92.987413</td>\n",
       "      <td>94.104234</td>\n",
       "      <td>89.548790</td>\n",
       "      <td>82.527814</td>\n",
       "      <td>82.931190</td>\n",
       "      <td>58.490996</td>\n",
       "      <td>34.502141</td>\n",
       "      <td>0.593581</td>\n",
       "    </tr>\n",
       "    <tr>\n",
       "      <th>50%</th>\n",
       "      <td>4.000000</td>\n",
       "      <td>18.00000</td>\n",
       "      <td>244.000000</td>\n",
       "      <td>1.00000</td>\n",
       "      <td>1.0</td>\n",
       "      <td>4.000000</td>\n",
       "      <td>36.00000</td>\n",
       "      <td>6.512000</td>\n",
       "      <td>0.219214</td>\n",
       "      <td>0.130703</td>\n",
       "      <td>...</td>\n",
       "      <td>96.434169</td>\n",
       "      <td>97.154009</td>\n",
       "      <td>96.320704</td>\n",
       "      <td>97.563821</td>\n",
       "      <td>93.963246</td>\n",
       "      <td>91.747341</td>\n",
       "      <td>90.380448</td>\n",
       "      <td>71.972726</td>\n",
       "      <td>49.725851</td>\n",
       "      <td>3.262512</td>\n",
       "    </tr>\n",
       "    <tr>\n",
       "      <th>75%</th>\n",
       "      <td>6.000000</td>\n",
       "      <td>26.00000</td>\n",
       "      <td>348.000000</td>\n",
       "      <td>2.00000</td>\n",
       "      <td>1.0</td>\n",
       "      <td>6.000000</td>\n",
       "      <td>51.00000</td>\n",
       "      <td>8.170000</td>\n",
       "      <td>0.454996</td>\n",
       "      <td>0.325862</td>\n",
       "      <td>...</td>\n",
       "      <td>98.311194</td>\n",
       "      <td>98.694683</td>\n",
       "      <td>98.233650</td>\n",
       "      <td>99.190037</td>\n",
       "      <td>96.680398</td>\n",
       "      <td>96.598134</td>\n",
       "      <td>94.804503</td>\n",
       "      <td>82.771715</td>\n",
       "      <td>66.348776</td>\n",
       "      <td>63.274470</td>\n",
       "    </tr>\n",
       "    <tr>\n",
       "      <th>max</th>\n",
       "      <td>7.000000</td>\n",
       "      <td>34.00000</td>\n",
       "      <td>452.000000</td>\n",
       "      <td>2.00000</td>\n",
       "      <td>1.0</td>\n",
       "      <td>7.000000</td>\n",
       "      <td>67.00000</td>\n",
       "      <td>15.650000</td>\n",
       "      <td>2.817913</td>\n",
       "      <td>3.326650</td>\n",
       "      <td>...</td>\n",
       "      <td>100.585191</td>\n",
       "      <td>100.833861</td>\n",
       "      <td>100.357273</td>\n",
       "      <td>100.874658</td>\n",
       "      <td>99.934271</td>\n",
       "      <td>100.283598</td>\n",
       "      <td>100.119823</td>\n",
       "      <td>96.028730</td>\n",
       "      <td>88.393048</td>\n",
       "      <td>87.125766</td>\n",
       "    </tr>\n",
       "  </tbody>\n",
       "</table>\n",
       "<p>8 rows × 35 columns</p>\n",
       "</div>"
      ],
      "text/plain": [
       "              row        col         rep       line   grid        Tier  \\\n",
       "count  875.000000  875.00000  875.000000  875.00000  875.0  875.000000   \n",
       "mean     4.000000   18.16800  257.161143    1.49600    1.0    4.000000   \n",
       "std      2.001144    9.08593  130.586830    0.50027    0.0    2.001144   \n",
       "min      1.000000    3.00000    0.000000    1.00000    1.0    1.000000   \n",
       "25%      2.000000   10.00000  139.500000    1.00000    1.0    2.000000   \n",
       "50%      4.000000   18.00000  244.000000    1.00000    1.0    4.000000   \n",
       "75%      6.000000   26.00000  348.000000    2.00000    1.0    6.000000   \n",
       "max      7.000000   34.00000  452.000000    2.00000    1.0    7.000000   \n",
       "\n",
       "             Row  Weight per row (lbs)     cc_0412     cc_0415  ...  \\\n",
       "count  875.00000            875.000000  875.000000  875.000000  ...   \n",
       "mean    35.75200              6.619561    0.332185    0.264788  ...   \n",
       "std     18.05367              2.370967    0.373851    0.373185  ...   \n",
       "min      5.00000              0.000000    0.000000    0.000000  ...   \n",
       "25%     20.00000              5.116000    0.068185    0.032228  ...   \n",
       "50%     36.00000              6.512000    0.219214    0.130703  ...   \n",
       "75%     51.00000              8.170000    0.454996    0.325862  ...   \n",
       "max     67.00000             15.650000    2.817913    3.326650  ...   \n",
       "\n",
       "          cc_0708     cc_0713     cc_0716     cc_0719     cc_0721     cc_0725  \\\n",
       "count  875.000000  875.000000  875.000000  875.000000  875.000000  875.000000   \n",
       "mean    94.026807   95.082757   94.141212   94.638812   91.362719   87.619367   \n",
       "std      8.284162    7.766256    8.112389    8.767108    9.020988   12.236083   \n",
       "min      0.000000    0.000000    0.000000   19.629574    0.000000   20.619689   \n",
       "25%     92.682724   94.276348   92.987413   94.104234   89.548790   82.527814   \n",
       "50%     96.434169   97.154009   96.320704   97.563821   93.963246   91.747341   \n",
       "75%     98.311194   98.694683   98.233650   99.190037   96.680398   96.598134   \n",
       "max    100.585191  100.833861  100.357273  100.874658   99.934271  100.283598   \n",
       "\n",
       "          cc_0728     cc_0802     cc_0808     cc_0812  \n",
       "count  875.000000  875.000000  875.000000  875.000000  \n",
       "mean    87.496111   69.590045   50.040269   31.333879  \n",
       "std     10.622950   16.478898   19.321092   31.829060  \n",
       "min      0.000000   21.425299    7.274665    0.000000  \n",
       "25%     82.931190   58.490996   34.502141    0.593581  \n",
       "50%     90.380448   71.972726   49.725851    3.262512  \n",
       "75%     94.804503   82.771715   66.348776   63.274470  \n",
       "max    100.119823   96.028730   88.393048   87.125766  \n",
       "\n",
       "[8 rows x 35 columns]"
      ]
     },
     "execution_count": 6,
     "metadata": {},
     "output_type": "execute_result"
    }
   ],
   "source": [
    "df.describe()"
   ]
  },
  {
   "cell_type": "markdown",
   "metadata": {},
   "source": [
    "### Split dataframe into X, y "
   ]
  },
  {
   "cell_type": "code",
   "execution_count": 7,
   "metadata": {},
   "outputs": [],
   "source": [
    "# separating the data to X and y\n",
    "X = df[['cc_0412', 'cc_0415', 'cc_0427', 'cc_0506', 'cc_0516', 'cc_0520', 'cc_0523', 'cc_0527', 'cc_0531', 'cc_0602',\n",
    "       'cc_0607', 'cc_0614', 'cc_0617', 'cc_0620', 'cc_0623', 'cc_0627',\n",
    "       'cc_0630', 'cc_0708', 'cc_0713', 'cc_0716', 'cc_0719', 'cc_0721',\n",
    "       'cc_0725', 'cc_0728', 'cc_0802', 'cc_0808', 'cc_0812']]\n",
    "\n",
    "y = df['Weight per row (lbs)']\n",
    "\n",
    "\n",
    "\n"
   ]
  },
  {
   "cell_type": "code",
   "execution_count": null,
   "metadata": {},
   "outputs": [],
   "source": []
  },
  {
   "cell_type": "code",
   "execution_count": null,
   "metadata": {},
   "outputs": [],
   "source": []
  },
  {
   "cell_type": "markdown",
   "metadata": {},
   "source": [
    "## Split the data into training and testing"
   ]
  },
  {
   "cell_type": "code",
   "execution_count": 8,
   "metadata": {},
   "outputs": [],
   "source": [
    "X_train, X_test, y_train, y_test = train_test_split(X, y, test_size=0.33, random_state=1)"
   ]
  },
  {
   "cell_type": "markdown",
   "metadata": {
    "scrolled": true
   },
   "source": [
    "## Modeling and training"
   ]
  },
  {
   "cell_type": "code",
   "execution_count": 9,
   "metadata": {},
   "outputs": [],
   "source": [
    "reg = LinearRegression().fit(X_train, y_train)\n",
    "y_hat = reg.predict(X_test)"
   ]
  },
  {
   "cell_type": "markdown",
   "metadata": {},
   "source": [
    "## Evaluation"
   ]
  },
  {
   "cell_type": "code",
   "execution_count": 10,
   "metadata": {},
   "outputs": [
    {
     "data": {
      "text/plain": [
       "0.5155039801869563"
      ]
     },
     "execution_count": 10,
     "metadata": {},
     "output_type": "execute_result"
    }
   ],
   "source": [
    "reg.score(X_test, y_test)"
   ]
  },
  {
   "cell_type": "code",
   "execution_count": null,
   "metadata": {},
   "outputs": [],
   "source": []
  },
  {
   "cell_type": "code",
   "execution_count": null,
   "metadata": {},
   "outputs": [],
   "source": []
  },
  {
   "cell_type": "code",
   "execution_count": 11,
   "metadata": {},
   "outputs": [],
   "source": [
    "# Resources\n",
    "# https://scikit-learn.org/stable/modules/generated/sklearn.linear_model.LinearRegression.html\n",
    "# https://scikit-learn.org/stable/modules/generated/sklearn.model_selection.train_test_split.html"
   ]
  }
 ],
 "metadata": {
  "kernelspec": {
   "display_name": "Python 3 (ipykernel)",
   "language": "python",
   "name": "python3"
  },
  "language_info": {
   "codemirror_mode": {
    "name": "ipython",
    "version": 3
   },
   "file_extension": ".py",
   "mimetype": "text/x-python",
   "name": "python",
   "nbconvert_exporter": "python",
   "pygments_lexer": "ipython3",
   "version": "3.11.4"
  }
 },
 "nbformat": 4,
 "nbformat_minor": 4
}
