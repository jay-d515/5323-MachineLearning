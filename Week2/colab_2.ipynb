{
 "cells": [
  {
   "cell_type": "code",
   "execution_count": null,
   "metadata": {},
   "outputs": [],
   "source": []
  },
  {
   "cell_type": "code",
   "execution_count": 19,
   "metadata": {},
   "outputs": [],
   "source": [
    "# what if the values are not nan and it is outliers"
   ]
  },
  {
   "cell_type": "code",
   "execution_count": 20,
   "metadata": {},
   "outputs": [],
   "source": [
    "# https://scikit-learn.org/stable/modules/generated/sklearn.linear_model.LinearRegression.html\n",
    "# https://scikit-learn.org/stable/modules/generated/sklearn.model_selection.train_test_split.html"
   ]
  },
  {
   "cell_type": "code",
   "execution_count": 1,
   "metadata": {},
   "outputs": [],
   "source": [
    "import pandas as pd\n",
    "import numpy as np\n",
    "from sklearn.linear_model import LinearRegression\n",
    "from sklearn.model_selection import train_test_split"
   ]
  },
  {
   "cell_type": "code",
   "execution_count": 22,
   "metadata": {},
   "outputs": [],
   "source": [
    "# data preparation"
   ]
  },
  {
   "cell_type": "code",
   "execution_count": 2,
   "metadata": {},
   "outputs": [
    {
     "data": {
      "text/plain": [
       "(875, 41)"
      ]
     },
     "execution_count": 2,
     "metadata": {},
     "output_type": "execute_result"
    }
   ],
   "source": [
    "df = pd.read_csv('cc2.csv')\n",
    "df.shape"
   ]
  },
  {
   "cell_type": "code",
   "execution_count": 24,
   "metadata": {},
   "outputs": [],
   "source": [
    "# df = df.replace(np.nan, 0) \n",
    "# df = df.fillna(0)"
   ]
  },
  {
   "cell_type": "code",
   "execution_count": 25,
   "metadata": {},
   "outputs": [
    {
     "data": {
      "text/plain": [
       "(875, 41)"
      ]
     },
     "execution_count": 25,
     "metadata": {},
     "output_type": "execute_result"
    }
   ],
   "source": [
    "df.shape"
   ]
  },
  {
   "cell_type": "code",
   "execution_count": 4,
   "metadata": {},
   "outputs": [
    {
     "data": {
      "text/plain": [
       "17"
      ]
     },
     "execution_count": 4,
     "metadata": {},
     "output_type": "execute_result"
    }
   ],
   "source": [
    "df.isna().sum().sum()"
   ]
  },
  {
   "cell_type": "code",
   "execution_count": 5,
   "metadata": {},
   "outputs": [],
   "source": [
    "df = df.fillna(0)"
   ]
  },
  {
   "cell_type": "code",
   "execution_count": 6,
   "metadata": {},
   "outputs": [
    {
     "data": {
      "text/plain": [
       "0"
      ]
     },
     "execution_count": 6,
     "metadata": {},
     "output_type": "execute_result"
    }
   ],
   "source": [
    "df.isna().sum().sum()"
   ]
  },
  {
   "cell_type": "code",
   "execution_count": 7,
   "metadata": {},
   "outputs": [
    {
     "data": {
      "text/html": [
       "<div>\n",
       "<style scoped>\n",
       "    .dataframe tbody tr th:only-of-type {\n",
       "        vertical-align: middle;\n",
       "    }\n",
       "\n",
       "    .dataframe tbody tr th {\n",
       "        vertical-align: top;\n",
       "    }\n",
       "\n",
       "    .dataframe thead th {\n",
       "        text-align: right;\n",
       "    }\n",
       "</style>\n",
       "<table border=\"1\" class=\"dataframe\">\n",
       "  <thead>\n",
       "    <tr style=\"text-align: right;\">\n",
       "      <th></th>\n",
       "      <th>row</th>\n",
       "      <th>col</th>\n",
       "      <th>rep</th>\n",
       "      <th>line</th>\n",
       "      <th>grid</th>\n",
       "      <th>Tier</th>\n",
       "      <th>Row</th>\n",
       "      <th>Weight per row (lbs)</th>\n",
       "      <th>cc_0412</th>\n",
       "      <th>cc_0415</th>\n",
       "      <th>...</th>\n",
       "      <th>cc_0708</th>\n",
       "      <th>cc_0713</th>\n",
       "      <th>cc_0716</th>\n",
       "      <th>cc_0719</th>\n",
       "      <th>cc_0721</th>\n",
       "      <th>cc_0725</th>\n",
       "      <th>cc_0728</th>\n",
       "      <th>cc_0802</th>\n",
       "      <th>cc_0808</th>\n",
       "      <th>cc_0812</th>\n",
       "    </tr>\n",
       "  </thead>\n",
       "  <tbody>\n",
       "    <tr>\n",
       "      <th>count</th>\n",
       "      <td>875.000000</td>\n",
       "      <td>875.00000</td>\n",
       "      <td>875.000000</td>\n",
       "      <td>875.00000</td>\n",
       "      <td>875.0</td>\n",
       "      <td>875.000000</td>\n",
       "      <td>875.00000</td>\n",
       "      <td>875.000000</td>\n",
       "      <td>875.000000</td>\n",
       "      <td>875.000000</td>\n",
       "      <td>...</td>\n",
       "      <td>875.000000</td>\n",
       "      <td>875.000000</td>\n",
       "      <td>875.000000</td>\n",
       "      <td>875.000000</td>\n",
       "      <td>875.000000</td>\n",
       "      <td>875.000000</td>\n",
       "      <td>875.000000</td>\n",
       "      <td>875.000000</td>\n",
       "      <td>875.000000</td>\n",
       "      <td>875.000000</td>\n",
       "    </tr>\n",
       "    <tr>\n",
       "      <th>mean</th>\n",
       "      <td>4.000000</td>\n",
       "      <td>18.16800</td>\n",
       "      <td>257.161143</td>\n",
       "      <td>1.49600</td>\n",
       "      <td>1.0</td>\n",
       "      <td>4.000000</td>\n",
       "      <td>35.75200</td>\n",
       "      <td>6.619561</td>\n",
       "      <td>0.332185</td>\n",
       "      <td>0.264788</td>\n",
       "      <td>...</td>\n",
       "      <td>94.026807</td>\n",
       "      <td>95.082757</td>\n",
       "      <td>94.141212</td>\n",
       "      <td>94.638812</td>\n",
       "      <td>91.362719</td>\n",
       "      <td>87.619367</td>\n",
       "      <td>87.496111</td>\n",
       "      <td>69.590045</td>\n",
       "      <td>50.040269</td>\n",
       "      <td>31.333879</td>\n",
       "    </tr>\n",
       "    <tr>\n",
       "      <th>std</th>\n",
       "      <td>2.001144</td>\n",
       "      <td>9.08593</td>\n",
       "      <td>130.586830</td>\n",
       "      <td>0.50027</td>\n",
       "      <td>0.0</td>\n",
       "      <td>2.001144</td>\n",
       "      <td>18.05367</td>\n",
       "      <td>2.370967</td>\n",
       "      <td>0.373851</td>\n",
       "      <td>0.373185</td>\n",
       "      <td>...</td>\n",
       "      <td>8.284162</td>\n",
       "      <td>7.766256</td>\n",
       "      <td>8.112389</td>\n",
       "      <td>8.767108</td>\n",
       "      <td>9.020988</td>\n",
       "      <td>12.236083</td>\n",
       "      <td>10.622950</td>\n",
       "      <td>16.478898</td>\n",
       "      <td>19.321092</td>\n",
       "      <td>31.829060</td>\n",
       "    </tr>\n",
       "    <tr>\n",
       "      <th>min</th>\n",
       "      <td>1.000000</td>\n",
       "      <td>3.00000</td>\n",
       "      <td>0.000000</td>\n",
       "      <td>1.00000</td>\n",
       "      <td>1.0</td>\n",
       "      <td>1.000000</td>\n",
       "      <td>5.00000</td>\n",
       "      <td>0.000000</td>\n",
       "      <td>0.000000</td>\n",
       "      <td>0.000000</td>\n",
       "      <td>...</td>\n",
       "      <td>0.000000</td>\n",
       "      <td>0.000000</td>\n",
       "      <td>0.000000</td>\n",
       "      <td>19.629574</td>\n",
       "      <td>0.000000</td>\n",
       "      <td>20.619689</td>\n",
       "      <td>0.000000</td>\n",
       "      <td>21.425299</td>\n",
       "      <td>7.274665</td>\n",
       "      <td>0.000000</td>\n",
       "    </tr>\n",
       "    <tr>\n",
       "      <th>25%</th>\n",
       "      <td>2.000000</td>\n",
       "      <td>10.00000</td>\n",
       "      <td>139.500000</td>\n",
       "      <td>1.00000</td>\n",
       "      <td>1.0</td>\n",
       "      <td>2.000000</td>\n",
       "      <td>20.00000</td>\n",
       "      <td>5.116000</td>\n",
       "      <td>0.068185</td>\n",
       "      <td>0.032228</td>\n",
       "      <td>...</td>\n",
       "      <td>92.682724</td>\n",
       "      <td>94.276348</td>\n",
       "      <td>92.987413</td>\n",
       "      <td>94.104234</td>\n",
       "      <td>89.548790</td>\n",
       "      <td>82.527814</td>\n",
       "      <td>82.931190</td>\n",
       "      <td>58.490996</td>\n",
       "      <td>34.502141</td>\n",
       "      <td>0.593581</td>\n",
       "    </tr>\n",
       "    <tr>\n",
       "      <th>50%</th>\n",
       "      <td>4.000000</td>\n",
       "      <td>18.00000</td>\n",
       "      <td>244.000000</td>\n",
       "      <td>1.00000</td>\n",
       "      <td>1.0</td>\n",
       "      <td>4.000000</td>\n",
       "      <td>36.00000</td>\n",
       "      <td>6.512000</td>\n",
       "      <td>0.219214</td>\n",
       "      <td>0.130703</td>\n",
       "      <td>...</td>\n",
       "      <td>96.434169</td>\n",
       "      <td>97.154009</td>\n",
       "      <td>96.320704</td>\n",
       "      <td>97.563821</td>\n",
       "      <td>93.963246</td>\n",
       "      <td>91.747341</td>\n",
       "      <td>90.380448</td>\n",
       "      <td>71.972726</td>\n",
       "      <td>49.725851</td>\n",
       "      <td>3.262512</td>\n",
       "    </tr>\n",
       "    <tr>\n",
       "      <th>75%</th>\n",
       "      <td>6.000000</td>\n",
       "      <td>26.00000</td>\n",
       "      <td>348.000000</td>\n",
       "      <td>2.00000</td>\n",
       "      <td>1.0</td>\n",
       "      <td>6.000000</td>\n",
       "      <td>51.00000</td>\n",
       "      <td>8.170000</td>\n",
       "      <td>0.454996</td>\n",
       "      <td>0.325862</td>\n",
       "      <td>...</td>\n",
       "      <td>98.311194</td>\n",
       "      <td>98.694683</td>\n",
       "      <td>98.233650</td>\n",
       "      <td>99.190037</td>\n",
       "      <td>96.680398</td>\n",
       "      <td>96.598134</td>\n",
       "      <td>94.804503</td>\n",
       "      <td>82.771715</td>\n",
       "      <td>66.348776</td>\n",
       "      <td>63.274470</td>\n",
       "    </tr>\n",
       "    <tr>\n",
       "      <th>max</th>\n",
       "      <td>7.000000</td>\n",
       "      <td>34.00000</td>\n",
       "      <td>452.000000</td>\n",
       "      <td>2.00000</td>\n",
       "      <td>1.0</td>\n",
       "      <td>7.000000</td>\n",
       "      <td>67.00000</td>\n",
       "      <td>15.650000</td>\n",
       "      <td>2.817913</td>\n",
       "      <td>3.326650</td>\n",
       "      <td>...</td>\n",
       "      <td>100.585191</td>\n",
       "      <td>100.833861</td>\n",
       "      <td>100.357273</td>\n",
       "      <td>100.874658</td>\n",
       "      <td>99.934271</td>\n",
       "      <td>100.283598</td>\n",
       "      <td>100.119823</td>\n",
       "      <td>96.028730</td>\n",
       "      <td>88.393048</td>\n",
       "      <td>87.125766</td>\n",
       "    </tr>\n",
       "  </tbody>\n",
       "</table>\n",
       "<p>8 rows × 35 columns</p>\n",
       "</div>"
      ],
      "text/plain": [
       "              row        col         rep       line   grid        Tier  \\\n",
       "count  875.000000  875.00000  875.000000  875.00000  875.0  875.000000   \n",
       "mean     4.000000   18.16800  257.161143    1.49600    1.0    4.000000   \n",
       "std      2.001144    9.08593  130.586830    0.50027    0.0    2.001144   \n",
       "min      1.000000    3.00000    0.000000    1.00000    1.0    1.000000   \n",
       "25%      2.000000   10.00000  139.500000    1.00000    1.0    2.000000   \n",
       "50%      4.000000   18.00000  244.000000    1.00000    1.0    4.000000   \n",
       "75%      6.000000   26.00000  348.000000    2.00000    1.0    6.000000   \n",
       "max      7.000000   34.00000  452.000000    2.00000    1.0    7.000000   \n",
       "\n",
       "             Row  Weight per row (lbs)     cc_0412     cc_0415  ...  \\\n",
       "count  875.00000            875.000000  875.000000  875.000000  ...   \n",
       "mean    35.75200              6.619561    0.332185    0.264788  ...   \n",
       "std     18.05367              2.370967    0.373851    0.373185  ...   \n",
       "min      5.00000              0.000000    0.000000    0.000000  ...   \n",
       "25%     20.00000              5.116000    0.068185    0.032228  ...   \n",
       "50%     36.00000              6.512000    0.219214    0.130703  ...   \n",
       "75%     51.00000              8.170000    0.454996    0.325862  ...   \n",
       "max     67.00000             15.650000    2.817913    3.326650  ...   \n",
       "\n",
       "          cc_0708     cc_0713     cc_0716     cc_0719     cc_0721     cc_0725  \\\n",
       "count  875.000000  875.000000  875.000000  875.000000  875.000000  875.000000   \n",
       "mean    94.026807   95.082757   94.141212   94.638812   91.362719   87.619367   \n",
       "std      8.284162    7.766256    8.112389    8.767108    9.020988   12.236083   \n",
       "min      0.000000    0.000000    0.000000   19.629574    0.000000   20.619689   \n",
       "25%     92.682724   94.276348   92.987413   94.104234   89.548790   82.527814   \n",
       "50%     96.434169   97.154009   96.320704   97.563821   93.963246   91.747341   \n",
       "75%     98.311194   98.694683   98.233650   99.190037   96.680398   96.598134   \n",
       "max    100.585191  100.833861  100.357273  100.874658   99.934271  100.283598   \n",
       "\n",
       "          cc_0728     cc_0802     cc_0808     cc_0812  \n",
       "count  875.000000  875.000000  875.000000  875.000000  \n",
       "mean    87.496111   69.590045   50.040269   31.333879  \n",
       "std     10.622950   16.478898   19.321092   31.829060  \n",
       "min      0.000000   21.425299    7.274665    0.000000  \n",
       "25%     82.931190   58.490996   34.502141    0.593581  \n",
       "50%     90.380448   71.972726   49.725851    3.262512  \n",
       "75%     94.804503   82.771715   66.348776   63.274470  \n",
       "max    100.119823   96.028730   88.393048   87.125766  \n",
       "\n",
       "[8 rows x 35 columns]"
      ]
     },
     "execution_count": 7,
     "metadata": {},
     "output_type": "execute_result"
    }
   ],
   "source": [
    "df.describe()"
   ]
  },
  {
   "cell_type": "code",
   "execution_count": 8,
   "metadata": {},
   "outputs": [],
   "source": [
    "# separating the data to X and y\n",
    "X = df[['cc_0412', 'cc_0415', 'cc_0427', 'cc_0506', 'cc_0516', 'cc_0520', 'cc_0523', 'cc_0527', 'cc_0531', 'cc_0602',\n",
    "       'cc_0607', 'cc_0614', 'cc_0617', 'cc_0620', 'cc_0623', 'cc_0627',\n",
    "       'cc_0630', 'cc_0708', 'cc_0713', 'cc_0716', 'cc_0719', 'cc_0721',\n",
    "       'cc_0725', 'cc_0728', 'cc_0802', 'cc_0808', 'cc_0812']]\n",
    "\n",
    "y = df['Weight per row (lbs)']\n",
    "\n",
    "\n",
    "\n"
   ]
  },
  {
   "cell_type": "code",
   "execution_count": null,
   "metadata": {},
   "outputs": [],
   "source": []
  },
  {
   "cell_type": "code",
   "execution_count": null,
   "metadata": {},
   "outputs": [],
   "source": []
  },
  {
   "cell_type": "code",
   "execution_count": null,
   "metadata": {},
   "outputs": [],
   "source": []
  },
  {
   "cell_type": "code",
   "execution_count": 9,
   "metadata": {},
   "outputs": [],
   "source": [
    "X_train, X_test, y_train, y_test = train_test_split(X, y, test_size=0.33, random_state=1)"
   ]
  },
  {
   "cell_type": "code",
   "execution_count": 30,
   "metadata": {
    "scrolled": true
   },
   "outputs": [],
   "source": [
    "# modeling and training"
   ]
  },
  {
   "cell_type": "code",
   "execution_count": 10,
   "metadata": {},
   "outputs": [],
   "source": [
    "reg = LinearRegression().fit(X_train, y_train)\n",
    "y_hat = reg.predict(X_test)"
   ]
  },
  {
   "cell_type": "code",
   "execution_count": 14,
   "metadata": {},
   "outputs": [
    {
     "data": {
      "text/plain": [
       "array([3.73615925, 9.15947745, 7.4531906 , 9.29111522, 7.4694091 ])"
      ]
     },
     "execution_count": 14,
     "metadata": {},
     "output_type": "execute_result"
    }
   ],
   "source": [
    "reg.predict(X_train.iloc[:5, :])\n"
   ]
  },
  {
   "cell_type": "code",
   "execution_count": 16,
   "metadata": {},
   "outputs": [
    {
     "data": {
      "text/plain": [
       "172    5.680\n",
       "850    7.316\n",
       "103    8.280\n",
       "785    8.604\n",
       "691    5.684\n",
       "Name: Weight per row (lbs), dtype: float64"
      ]
     },
     "execution_count": 16,
     "metadata": {},
     "output_type": "execute_result"
    }
   ],
   "source": [
    "y_train.iloc[:5]"
   ]
  },
  {
   "cell_type": "code",
   "execution_count": 18,
   "metadata": {},
   "outputs": [
    {
     "data": {
      "text/plain": [
       "0.6619004514427427"
      ]
     },
     "execution_count": 18,
     "metadata": {},
     "output_type": "execute_result"
    }
   ],
   "source": [
    "reg.score(X_train, y_train)"
   ]
  },
  {
   "cell_type": "code",
   "execution_count": 11,
   "metadata": {},
   "outputs": [
    {
     "data": {
      "text/plain": [
       "array([ 9.53091854,  7.27430352,  6.26736405,  4.90542813,  5.41822429,\n",
       "        4.44722934,  6.24911623,  6.37445049,  8.36465862,  3.11713102,\n",
       "        6.60553924,  5.00474504,  2.97859526,  8.04486788,  4.8417803 ,\n",
       "        7.35590948,  8.61713381,  5.26708732,  3.61857316,  4.58022859,\n",
       "        3.19212314,  9.16917464,  7.69516147,  4.98107738,  7.10325649,\n",
       "        7.41478622,  6.19055758,  6.36540649,  9.45244763,  4.08862313,\n",
       "        7.36863739,  5.89728316,  6.63431199,  3.41575012,  6.2505571 ,\n",
       "        8.01665752,  5.24332681,  8.54720448,  8.50978079,  9.09718797,\n",
       "        6.97524865,  7.75861145,  4.16886214,  9.27170348,  7.58273983,\n",
       "        6.22964172,  8.10622289,  7.76449523,  7.56923425,  7.28658985,\n",
       "        3.16726044,  8.22698588,  6.40388031,  6.49188562,  6.67437469,\n",
       "        6.0730918 ,  7.87385003,  6.21211031,  4.63173582,  8.94749697,\n",
       "        7.17348881,  9.07637619,  7.23170787,  6.42602324,  5.44581566,\n",
       "        5.86019193,  8.89298612,  9.96097705,  7.30113124,  7.79289467,\n",
       "        6.22173204,  6.89218845,  6.6120457 ,  9.23749105,  7.94520659,\n",
       "        0.73391319,  8.88248313,  9.50459744,  5.73986894,  7.39812635,\n",
       "        6.0311962 ,  6.77734187,  7.65082028,  8.82091057,  2.76762189,\n",
       "        4.68956983,  8.39739271, 11.3968067 ,  6.58580944,  5.70639088,\n",
       "        6.90268088,  6.93105308,  8.80917754,  8.11907557,  6.09615989,\n",
       "        6.30912103, 10.36968552,  5.78475235,  4.62973121,  8.99792337,\n",
       "        5.81486657,  7.37690805,  5.28137505,  9.38283841, 11.63319787,\n",
       "        2.40231758,  9.44072207,  5.6709641 ,  6.66196519,  9.18342122,\n",
       "        7.24835768,  6.18319307,  8.87074671,  7.03503386,  6.41421171,\n",
       "        7.68548638,  4.99987954,  5.86218541,  7.14466155,  7.71661196,\n",
       "        5.62388739,  9.22534354,  4.95771892,  8.12944991,  6.53053224,\n",
       "        8.2207115 ,  7.48687636,  4.52045568,  5.37268959,  6.50037317,\n",
       "        6.74428279,  8.54282107,  9.47119556,  6.30337227,  5.80710894,\n",
       "        8.25479616,  6.29896732,  7.89188099,  8.17360095,  7.33649625,\n",
       "        7.70193677,  8.18092549,  6.68951016,  7.28922896,  5.49672283,\n",
       "       10.30975673,  7.32292164,  6.1217006 ,  6.43479283,  5.23797118,\n",
       "        6.67471542,  1.32257144,  4.8035776 ,  5.9649294 ,  8.97320555,\n",
       "        5.55458194,  6.56105003,  6.98845925,  6.04602979,  7.56945691,\n",
       "        6.41049647,  8.13858323,  9.03397226,  6.14489749,  7.80107625,\n",
       "        7.24044369,  5.07653654,  5.68925638,  6.27133697,  8.13148048,\n",
       "        5.04283888,  8.55230531,  8.70631129,  8.79882486,  5.24430587,\n",
       "        6.02282451,  6.48750181,  7.85216845,  6.73766137,  1.04703813,\n",
       "        8.44484388,  8.73942902,  7.0969376 ,  9.85158168,  6.79037458,\n",
       "        7.71866017,  6.58638523,  7.28335774,  5.50672794,  6.65736846,\n",
       "        7.53966308,  7.06694881,  6.91883053,  6.17341073,  6.11329263,\n",
       "        8.6007211 ,  7.66385172,  3.95890668,  9.17417633,  2.9731363 ,\n",
       "        8.61139275,  7.60224446,  9.39864867,  5.88019824,  9.36084232,\n",
       "        5.26201864,  7.11443717,  6.39672003,  8.90961164,  7.56760535,\n",
       "        6.17088225,  8.60507453,  5.44717413,  7.1581203 ,  3.79869666,\n",
       "        6.49399342,  8.65526197,  5.35120852,  9.17355071,  6.05822639,\n",
       "        4.36258102,  7.45346208,  7.18202257,  6.71084341,  3.56880096,\n",
       "        4.64393921,  6.90555771,  8.91010651,  2.60215591,  6.97083177,\n",
       "        8.21444885,  8.28486149,  9.89876278,  6.13253534,  7.77953163,\n",
       "        9.30651096,  5.97791093,  4.48584471,  6.30208193,  6.81094453,\n",
       "        8.16349849,  9.62808962,  7.47367513,  7.99704392,  6.97008612,\n",
       "        5.04740132,  7.61606323,  6.65872564,  6.21197391,  7.76103628,\n",
       "        8.23826628,  5.18009906,  8.32010172,  5.23196804,  5.77949937,\n",
       "        3.82954279,  5.44169227,  7.5920246 ,  6.68651916,  5.52003617,\n",
       "        7.13429313,  4.43818789,  8.87201386,  8.48410735,  5.42366147,\n",
       "        6.87225311,  7.65221217,  5.4323958 ,  7.02681182,  5.34572106,\n",
       "        8.81440683,  5.26048781,  6.14672008,  4.47862846,  6.71545738,\n",
       "        7.15294759,  6.40971094,  8.23245152, -2.45653475,  7.99809551,\n",
       "        6.0255291 ,  5.77722808,  8.76006175,  4.72695034,  6.69466821,\n",
       "        4.69232185,  5.78477983,  5.11334298,  5.79879222])"
      ]
     },
     "execution_count": 11,
     "metadata": {},
     "output_type": "execute_result"
    }
   ],
   "source": [
    "y_hat"
   ]
  },
  {
   "cell_type": "code",
   "execution_count": 32,
   "metadata": {},
   "outputs": [],
   "source": [
    "# evaluation"
   ]
  },
  {
   "cell_type": "code",
   "execution_count": null,
   "metadata": {},
   "outputs": [],
   "source": []
  },
  {
   "cell_type": "code",
   "execution_count": 12,
   "metadata": {},
   "outputs": [
    {
     "data": {
      "text/plain": [
       "0.5155039801869563"
      ]
     },
     "execution_count": 12,
     "metadata": {},
     "output_type": "execute_result"
    }
   ],
   "source": [
    "reg.score(X_test, y_test)"
   ]
  },
  {
   "cell_type": "code",
   "execution_count": null,
   "metadata": {},
   "outputs": [],
   "source": []
  },
  {
   "cell_type": "code",
   "execution_count": null,
   "metadata": {},
   "outputs": [],
   "source": []
  },
  {
   "cell_type": "code",
   "execution_count": null,
   "metadata": {},
   "outputs": [],
   "source": []
  }
 ],
 "metadata": {
  "kernelspec": {
   "display_name": "Python 3 (ipykernel)",
   "language": "python",
   "name": "python3"
  },
  "language_info": {
   "codemirror_mode": {
    "name": "ipython",
    "version": 3
   },
   "file_extension": ".py",
   "mimetype": "text/x-python",
   "name": "python",
   "nbconvert_exporter": "python",
   "pygments_lexer": "ipython3",
   "version": "3.11.4"
  }
 },
 "nbformat": 4,
 "nbformat_minor": 4
}
